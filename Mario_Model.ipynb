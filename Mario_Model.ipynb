{
  "cells": [
    {
      "cell_type": "code",
      "execution_count": 1,
      "metadata": {
        "colab": {
          "base_uri": "https://localhost:8080/"
        },
        "id": "ompRa2ae9Qnt",
        "outputId": "add9b09f-4d43-4a6b-a64e-d8049ab33e1d"
      },
      "outputs": [
        {
          "name": "stdout",
          "output_type": "stream",
          "text": [
            "\u001b[33m\r0% [Working]\u001b[0m\r            \rHit:1 https://cloud.r-project.org/bin/linux/ubuntu jammy-cran40/ InRelease\n",
            "Hit:2 https://developer.download.nvidia.com/compute/cuda/repos/ubuntu2204/x86_64  InRelease\n",
            "Hit:3 http://security.ubuntu.com/ubuntu jammy-security InRelease\n",
            "Hit:4 http://archive.ubuntu.com/ubuntu jammy InRelease\n",
            "Hit:5 http://archive.ubuntu.com/ubuntu jammy-updates InRelease\n",
            "Hit:6 https://ppa.launchpadcontent.net/c2d4u.team/c2d4u4.0+/ubuntu jammy InRelease\n",
            "Hit:7 http://archive.ubuntu.com/ubuntu jammy-backports InRelease\n",
            "Hit:8 https://ppa.launchpadcontent.net/deadsnakes/ppa/ubuntu jammy InRelease\n",
            "Hit:9 https://ppa.launchpadcontent.net/graphics-drivers/ppa/ubuntu jammy InRelease\n",
            "Hit:10 https://ppa.launchpadcontent.net/ubuntugis/ppa/ubuntu jammy InRelease\n",
            "Reading package lists... Done\n",
            "Building dependency tree... Done\n",
            "Reading state information... Done\n",
            "45 packages can be upgraded. Run 'apt list --upgradable' to see them.\n",
            "tar: spark-3.2.1-bin-hadoop3.2.tgz: Cannot open: No such file or directory\n",
            "tar: Error is not recoverable: exiting now\n",
            "Requirement already satisfied: pyspark in /usr/local/lib/python3.10/dist-packages (3.5.1)\n",
            "Requirement already satisfied: py4j==0.10.9.7 in /usr/local/lib/python3.10/dist-packages (from pyspark) (0.10.9.7)\n",
            "Requirement already satisfied: py4j in /usr/local/lib/python3.10/dist-packages (0.10.9.7)\n"
          ]
        }
      ],
      "source": [
        "!sudo apt update\n",
        "!apt-get install openjdk-8-jdk-headless -qq > /dev/null\n",
        "#Check this site for the latest download link https://www.apache.org/dyn/closer.lua/spark/spark-3.2.1/spark-3.2.1-bin-hadoop3.2.tgz\n",
        "!wget -q https://dlcdn.apache.org/spark/spark-3.2.1/spark-3.2.1-bin-hadoop3.2.tgz\n",
        "!tar xf spark-3.2.1-bin-hadoop3.2.tgz\n",
        "!pip install -q findspark\n",
        "!pip install pyspark\n",
        "!pip install py4j\n",
        "\n",
        "import os\n",
        "import sys\n",
        "# os.environ[\"JAVA_HOME\"] = \"/usr/lib/jvm/java-8-openjdk-amd64\"\n",
        "# os.environ[\"SPARK_HOME\"] = \"/content/spark-3.2.1-bin-hadoop3.2\"\n",
        "\n",
        "\n",
        "import findspark\n",
        "findspark.init()\n",
        "findspark.find()\n",
        "\n",
        "import pyspark\n",
        "import pyspark.sql.functions as F\n",
        "from pyspark.sql import SparkSession\n",
        "\n",
        "from datetime import datetime, timedelta\n",
        "\n",
        "import numpy as np\n",
        "import pandas as pd"
      ]
    },
    {
      "cell_type": "code",
      "execution_count": 3,
      "metadata": {
        "id": "5twT0_qZ9Qnu"
      },
      "outputs": [],
      "source": [
        "################################\n",
        "appName = 'MarioFreireAriasFinalProject'\n",
        "spark = SparkSession.builder\\\n",
        "                    .appName(appName) \\\n",
        "                    .getOrCreate()\n",
        "sc = spark.sparkContext"
      ]
    },
    {
      "cell_type": "code",
      "execution_count": 4,
      "metadata": {
        "colab": {
          "base_uri": "https://localhost:8080/",
          "height": 219
        },
        "id": "TXB4TZpi9Qnu",
        "outputId": "090039ee-ab3e-47c8-889e-422a18e5cd65"
      },
      "outputs": [
        {
          "data": {
            "text/html": [
              "\n",
              "            <div>\n",
              "                <p><b>SparkSession - in-memory</b></p>\n",
              "                \n",
              "        <div>\n",
              "            <p><b>SparkContext</b></p>\n",
              "\n",
              "            <p><a href=\"http://6fb8b478819e:4040\">Spark UI</a></p>\n",
              "\n",
              "            <dl>\n",
              "              <dt>Version</dt>\n",
              "                <dd><code>v3.5.1</code></dd>\n",
              "              <dt>Master</dt>\n",
              "                <dd><code>local[*]</code></dd>\n",
              "              <dt>AppName</dt>\n",
              "                <dd><code>MarioFreireAriasFinalProject</code></dd>\n",
              "            </dl>\n",
              "        </div>\n",
              "        \n",
              "            </div>\n",
              "        "
            ],
            "text/plain": [
              "<pyspark.sql.session.SparkSession at 0x7c4f6581a4d0>"
            ]
          },
          "execution_count": 4,
          "metadata": {},
          "output_type": "execute_result"
        }
      ],
      "source": [
        "spark"
      ]
    },
    {
      "cell_type": "code",
      "execution_count": 5,
      "metadata": {
        "colab": {
          "base_uri": "https://localhost:8080/"
        },
        "id": "qxYv0SA29Qnu",
        "outputId": "c4979b3b-dc51-49d9-ae33-368669afc9c3"
      },
      "outputs": [
        {
          "name": "stdout",
          "output_type": "stream",
          "text": [
            "['.config', 'ual.csv', '.ipynb_checkpoints']\n",
            "+------+------+----------+-----------------+-----------------+-----------------+-----------------+-----------------+---------+-----+\n",
            "|   cik|ticker|      date|             open|             high|              low|            close|         adjclose|   volume|   rn|\n",
            "+------+------+----------+-----------------+-----------------+-----------------+-----------------+-----------------+---------+-----+\n",
            "|100517|   UAL|2018-01-02| 67.9000015258789|69.01000213623047|67.37999725341797|68.94000244140625|68.94000244140625|3390600.0|98004|\n",
            "|100517|   UAL|2018-01-03|68.94000244140625|69.37000274658203|67.81999969482422|68.48999786376953|68.48999786376953|4590900.0|98003|\n",
            "|100517|   UAL|2018-01-04|68.69000244140625|69.37000274658203|67.63999938964844|69.26000213623047|69.26000213623047|3922900.0|98002|\n",
            "|100517|   UAL|2018-01-05| 69.4000015258789| 69.4000015258789| 68.7699966430664|69.36000061035156|69.36000061035156|2675900.0|98001|\n",
            "|100517|   UAL|2018-01-08|69.37000274658203|69.37000274658203|68.01000213623047|68.51000213623047|68.51000213623047|4277900.0|98000|\n",
            "|100517|   UAL|2018-01-09|             68.5|69.76000213623047|68.38999938964844| 68.4800033569336| 68.4800033569336|3057000.0|97999|\n",
            "|100517|   UAL|2018-01-10| 70.9800033569336| 73.1500015258789|70.44999694824219|73.08000183105469|73.08000183105469|9380400.0|97998|\n",
            "|100517|   UAL|2018-01-11|73.61000061035156|77.08999633789062|            73.25|76.44999694824219|76.44999694824219|6913400.0|97997|\n",
            "|100517|   UAL|2018-01-12|76.73999786376953|78.83999633789062| 76.4800033569336| 78.4000015258789| 78.4000015258789|4479300.0|97996|\n",
            "|100517|   UAL|2018-01-16| 78.3499984741211|             79.0|76.80000305175781|77.48999786376953|77.48999786376953|3912400.0|97995|\n",
            "|100517|   UAL|2018-01-17|77.52999877929688|77.61000061035156| 76.4800033569336|76.58000183105469|76.58000183105469|2950400.0|97994|\n",
            "|100517|   UAL|2018-01-18| 76.5999984741211| 77.0999984741211|75.98999786376953|76.30000305175781|76.30000305175781|3442200.0|97993|\n",
            "|100517|   UAL|2018-01-19|76.81999969482422|76.83999633789062|75.80000305175781|             76.5|             76.5|3994600.0|97992|\n",
            "|100517|   UAL|2018-01-22| 76.5999984741211|76.87999725341797|             75.5|76.87000274658203|76.87000274658203|3010700.0|97991|\n",
            "|100517|   UAL|2018-01-23| 77.0999984741211|78.20999908447266| 76.4000015258789|77.97000122070312|77.97000122070312|5115800.0|97990|\n",
            "|100517|   UAL|2018-01-24|71.43000030517578|             72.0|68.06999969482422|69.05000305175781|69.05000305175781|2.71172E7|97989|\n",
            "|100517|   UAL|2018-01-25|69.36000061035156| 69.4000015258789|65.80000305175781|66.08000183105469|66.08000183105469|1.69603E7|97988|\n",
            "|100517|   UAL|2018-01-26|66.33000183105469| 66.7699966430664|65.44000244140625|66.55999755859375|66.55999755859375|6503500.0|97987|\n",
            "|100517|   UAL|2018-01-29|66.22000122070312|            66.75|65.45999908447266|65.77999877929688|65.77999877929688|5414800.0|97986|\n",
            "|100517|   UAL|2018-01-30|66.26000213623047| 67.5199966430664|65.77999877929688|67.01000213623047|67.01000213623047|7802300.0|97985|\n",
            "+------+------+----------+-----------------+-----------------+-----------------+-----------------+-----------------+---------+-----+\n",
            "only showing top 20 rows\n",
            "\n"
          ]
        },
        {
          "data": {
            "text/plain": [
              "[Row(cik=100517, ticker='UAL', date=datetime.date(2024, 4, 15), open=42.150001525878906, high=42.83000183105469, low=40.84000015258789, close=41.040000915527344, adjclose=41.040000915527344, volume=10452100.0, rn=631),\n",
              " Row(cik=100517, ticker='UAL', date=datetime.date(2024, 4, 16), open=40.79999923706055, high=41.720001220703125, low=40.099998474121094, close=41.5, adjclose=41.5, volume=18510900.0, rn=630),\n",
              " Row(cik=100517, ticker='UAL', date=datetime.date(2024, 4, 17), open=44.45000076293945, high=49.13999938964844, low=44.11000061035156, close=48.7400016784668, adjclose=48.7400016784668, volume=67541296.0, rn=629),\n",
              " Row(cik=100517, ticker='UAL', date=datetime.date(2024, 4, 18), open=49.220001220703125, high=51.880001068115234, low=49.20000076293945, close=51.41999816894531, adjclose=51.41999816894531, volume=38676000.0, rn=628),\n",
              " Row(cik=100517, ticker='UAL', date=datetime.date(2024, 4, 19), open=51.189998626708984, high=53.099998474121094, low=50.900001525878906, close=51.380001068115234, adjclose=51.380001068115234, volume=16351200.0, rn=627),\n",
              " Row(cik=100517, ticker='UAL', date=datetime.date(2024, 4, 22), open=51.86000061035156, high=54.150001525878906, low=51.529998779296875, close=53.939998626708984, adjclose=53.939998626708984, volume=16411600.0, rn=626),\n",
              " Row(cik=100517, ticker='UAL', date=datetime.date(2024, 4, 23), open=53.08000183105469, high=54.2400016784668, low=52.810001373291016, close=53.92499923706055, adjclose=53.92499923706055, volume=6021664.0, rn=625)]"
            ]
          },
          "execution_count": 5,
          "metadata": {},
          "output_type": "execute_result"
        }
      ],
      "source": [
        "company_ticker = \"UAL\"\n",
        "filename = \"ual.csv\"\n",
        "\n",
        "# check the contents of the directory\n",
        "print(os.listdir())\n",
        "\n",
        "# load the data from the csv file\n",
        "combined_data = spark.read.csv(filename, header=True, inferSchema=True)\n",
        "\n",
        "# rename the columns\n",
        "combined_data = combined_data.withColumnRenamed(\"combined_data.cik\", \"cik\") \\\n",
        "       .withColumnRenamed(\"combined_data.ticker\", \"ticker\") \\\n",
        "       .withColumnRenamed(\"combined_data.date\", \"date\") \\\n",
        "       .withColumnRenamed(\"combined_data.open\", \"open\") \\\n",
        "       .withColumnRenamed(\"combined_data.high\", \"high\") \\\n",
        "       .withColumnRenamed(\"combined_data.low\", \"low\") \\\n",
        "       .withColumnRenamed(\"combined_data.close\", \"close\") \\\n",
        "       .withColumnRenamed(\"combined_data.adjclose\", \"adjclose\") \\\n",
        "       .withColumnRenamed(\"combined_data.volume\", \"volume\") \\\n",
        "       .withColumnRenamed(\"combined_data.rn\", \"rn\")\n",
        "\n",
        "combined_data = combined_data.orderBy(\"date\")\n",
        "combined_data.show()\n",
        "combined_data.tail(7)"
      ]
    },
    {
      "cell_type": "code",
      "execution_count": 7,
      "metadata": {
        "colab": {
          "base_uri": "https://localhost:8080/"
        },
        "id": "rdxG7KmDb-3P",
        "outputId": "2b0f0d58-1a6a-4d8c-fdeb-fedecd6e2953"
      },
      "outputs": [
        {
          "name": "stdout",
          "output_type": "stream",
          "text": [
            "Root Mean Squared Error (RMSE) on test data = 21.27180968246922\n"
          ]
        }
      ],
      "source": [
        "from pyspark.ml import Pipeline\n",
        "from pyspark.ml.feature import VectorAssembler\n",
        "from pyspark.ml.regression import LinearRegression\n",
        "from pyspark.ml.evaluation import RegressionEvaluator\n",
        "from pyspark.ml.tuning import ParamGridBuilder, CrossValidator\n",
        "from pyspark.sql.functions import year, month, dayofmonth\n",
        "\n",
        "# Assuming you already have a SparkSession named spark\n",
        "# Assuming combined_data is your DataFrame with columns 'date' and 'close'\n",
        "\n",
        "# Extract year, month, and day from the date column\n",
        "data_with_features = combined_data.withColumn(\"year\", year(\"date\")) \\\n",
        "                                  .withColumn(\"month\", month(\"date\")) \\\n",
        "                                  .withColumn(\"day\", dayofmonth(\"date\"))\n",
        "data_with_features = data_with_features.orderBy(\"date\")\n",
        "\n",
        "# Split data into train and test sets (80% train, 20% test)\n",
        "# Calculate the index to split at (80% train, 20% test)\n",
        "split_index = int(0.8 * data_with_features.count())\n",
        "\n",
        "# Split the data into train and test sets\n",
        "train_data = data_with_features.limit(split_index)\n",
        "test_data = data_with_features.subtract(train_data)\n",
        "\n",
        "# Define the features column\n",
        "feature_columns = ['year', 'month', 'day']\n",
        "vector_assembler = VectorAssembler(inputCols=feature_columns, outputCol=\"features\")\n",
        "\n",
        "# Define the LinearRegression\n",
        "lr = LinearRegression(featuresCol=\"features\", labelCol=\"close\")  # Assuming you want to predict 'close' based on 'date'\n",
        "\n",
        "# Create a pipeline\n",
        "pipeline = Pipeline(stages=[vector_assembler, lr])\n",
        "\n",
        "# Define parameter grid for hyperparameter tuning\n",
        "param_grid = ParamGridBuilder() \\\n",
        "    .addGrid(lr.regParam, [0.1, 0.2, 0.3, 0.4, 0.5]) \\\n",
        "    .addGrid(lr.maxIter, [5, 7, 10, 12, 20]) \\\n",
        "    .addGrid(lr.elasticNetParam, [0.1, 0.4, 0.8, 0.99]).build()\n",
        "\n",
        "# Define evaluator\n",
        "evaluator = RegressionEvaluator(labelCol=\"close\", predictionCol=\"prediction\", metricName=\"rmse\")\n",
        "\n",
        "# Create CrossValidator\n",
        "cross_val = CrossValidator(estimator=pipeline,\n",
        "                           estimatorParamMaps=param_grid,\n",
        "                           evaluator=evaluator,\n",
        "                           numFolds=3)  # You can adjust the number of folds as needed\n",
        "\n",
        "# Fit the model\n",
        "cv_model = cross_val.fit(train_data)\n",
        "\n",
        "# Get best model\n",
        "best_model = cv_model.bestModel\n",
        "\n",
        "# Make predictions on the test set\n",
        "predictions = best_model.transform(test_data)\n",
        "\n",
        "# Evaluate the model on test data\n",
        "rmse = evaluator.evaluate(predictions)\n",
        "\n",
        "print(\"Root Mean Squared Error (RMSE) on test data =\", rmse)"
      ]
    },
    {
      "cell_type": "code",
      "execution_count": 9,
      "metadata": {
        "colab": {
          "base_uri": "https://localhost:8080/"
        },
        "id": "GwpIYFRfdUtr",
        "outputId": "099f8637-da2e-496f-dd10-c92fab96d567"
      },
      "outputs": [
        {
          "name": "stdout",
          "output_type": "stream",
          "text": [
            "         rmse  regParam  maxIter  elasticNetParam\n",
            "0   14.663981       0.1        5             0.10\n",
            "1   14.664317       0.1        5             0.40\n",
            "2   14.664872       0.1        5             0.80\n",
            "3   14.665030       0.1        5             0.99\n",
            "4   14.663982       0.1        7             0.10\n",
            "..        ...       ...      ...              ...\n",
            "95  14.671819       0.5       12             0.99\n",
            "96  14.668820       0.5       20             0.10\n",
            "97  14.671818       0.5       20             0.40\n",
            "98  14.671404       0.5       20             0.80\n",
            "99  14.671819       0.5       20             0.99\n",
            "\n",
            "[100 rows x 4 columns]\n"
          ]
        }
      ],
      "source": [
        "params = [{p.name: v for p, v in m.items()} for m in cv_model.getEstimatorParamMaps()]\n",
        "import pandas as pd\n",
        "\n",
        "results_df = pd.DataFrame.from_dict([\n",
        "    {cv_model.getEvaluator().getMetricName(): metric, **ps}\n",
        "    for ps, metric in zip(params, cv_model.avgMetrics)\n",
        "])\n",
        "\n",
        "print(results_df)\n",
        "\n",
        "results_df = results_df.sort_values(by='rmse', ascending=False)\n"
      ]
    },
    {
      "cell_type": "code",
      "execution_count": 10,
      "metadata": {
        "colab": {
          "base_uri": "https://localhost:8080/"
        },
        "id": "6wGw0VHTg9cl",
        "outputId": "61e698c5-4e97-4c91-f00d-23f85ccbda19"
      },
      "outputs": [
        {
          "name": "stdout",
          "output_type": "stream",
          "text": [
            "Test data length: 7\n",
            "Training time: 0.92 seconds\n",
            "Model results for last 7 days\n",
            "Root Mean Squared Error (RMSE) on test data = 17.332869214874048\n",
            "Mean Absolute Error (MAE) on test data = 16.562523953946634\n",
            "R-squared (R2) on test data = -10.702817852021266\n"
          ]
        }
      ],
      "source": [
        "import time\n",
        "# Split data into train and test sets (80% train, 20% test)\n",
        "# Calculate the index to split at (80% train, 20% test)\n",
        "split_index = int(data_with_features.count() - 7)\n",
        "\n",
        "# Split the data into train and test sets\n",
        "train_data = data_with_features.limit(split_index)\n",
        "test_data = data_with_features.subtract(train_data)\n",
        "\n",
        "# Print length of thest data. Should be 7 days\n",
        "print(\"Test data length:\", test_data.count())\n",
        "\n",
        "# Define the features column\n",
        "feature_columns = ['year', 'month', 'day']  # Assuming these are the features you are using\n",
        "vector_assembler = VectorAssembler(inputCols=feature_columns, outputCol=\"features\")\n",
        "\n",
        "# Define the LinearRegression with the best parameters obtained from cross-validation\n",
        "best_lr = LinearRegression(featuresCol=\"features\", labelCol=\"close\", regParam=0.1, maxIter=5, elasticNetParam=0.1)\n",
        "\n",
        "# Create a pipeline\n",
        "pipeline = Pipeline(stages=[vector_assembler, best_lr])\n",
        "\n",
        "# Fit the model on the entire dataset except the last 7 days\n",
        "start_time = time.time()\n",
        "model = pipeline.fit(train_data)\n",
        "end_time = time.time()\n",
        "print(\"Training time: {:.2f} seconds\".format(end_time - start_time))\n",
        "\n",
        "# Make predictions on the entire dataset\n",
        "predictions = model.transform(test_data)\n",
        "\n",
        "# Define evaluator\n",
        "evaluator = RegressionEvaluator(labelCol=\"close\", predictionCol=\"prediction\", metricName=\"rmse\")\n",
        "evaluator_mae = RegressionEvaluator(labelCol=\"close\", predictionCol=\"prediction\", metricName=\"mae\")\n",
        "evaluator_r2 = RegressionEvaluator(labelCol=\"close\", predictionCol=\"prediction\", metricName=\"r2\")\n",
        "\n",
        "# Evaluate the model on test data\n",
        "rmse = evaluator.evaluate(predictions)\n",
        "mae = evaluator_mae.evaluate(predictions)\n",
        "r2 = evaluator_r2.evaluate(predictions)\n",
        "\n",
        "print(\"Model results for last 7 days\")\n",
        "print(\"Root Mean Squared Error (RMSE) on test data =\", rmse)\n",
        "print(\"Mean Absolute Error (MAE) on test data =\", mae)\n",
        "print(\"R-squared (R2) on test data =\", r2)"
      ]
    },
    {
      "cell_type": "code",
      "execution_count": 11,
      "metadata": {
        "colab": {
          "base_uri": "https://localhost:8080/"
        },
        "id": "xLNz9EXrpqJB",
        "outputId": "87e9b720-9d2f-4b1f-ac0d-2dac43372d37"
      },
      "outputs": [
        {
          "name": "stdout",
          "output_type": "stream",
          "text": [
            "+------+------+----------+------------------+------------------+------------------+------------------+------------------+-----------+---+----+-----+---+-----------------+------------------+\n",
            "|   cik|ticker|      date|              open|              high|               low|             close|          adjclose|     volume| rn|year|month|day|         features|        prediction|\n",
            "+------+------+----------+------------------+------------------+------------------+------------------+------------------+-----------+---+----+-----+---+-----------------+------------------+\n",
            "|100517|   UAL|2024-04-15|42.150001525878906| 42.83000183105469| 40.84000015258789|41.040000915527344|41.040000915527344|  1.04521E7|631|2024|    4| 15|[2024.0,4.0,15.0]| 32.34994949163229|\n",
            "|100517|   UAL|2024-04-16| 40.79999923706055|41.720001220703125|40.099998474121094|              41.5|              41.5|  1.85109E7|630|2024|    4| 16|[2024.0,4.0,16.0]| 32.33225691466396|\n",
            "|100517|   UAL|2024-04-17| 44.45000076293945| 49.13999938964844| 44.11000061035156|  48.7400016784668|  48.7400016784668|6.7541296E7|629|2024|    4| 17|[2024.0,4.0,17.0]| 32.31456433769381|\n",
            "|100517|   UAL|2024-04-18|49.220001220703125|51.880001068115234| 49.20000076293945| 51.41999816894531| 51.41999816894531|   3.8676E7|628|2024|    4| 18|[2024.0,4.0,18.0]| 32.29687176072548|\n",
            "|100517|   UAL|2024-04-19|51.189998626708984|53.099998474121094|50.900001525878906|51.380001068115234|51.380001068115234|  1.63512E7|627|2024|    4| 19|[2024.0,4.0,19.0]| 32.27917918375533|\n",
            "|100517|   UAL|2024-04-22| 51.86000061035156|54.150001525878906|51.529998779296875|53.939998626708984|53.939998626708984|  1.64116E7|626|2024|    4| 22|[2024.0,4.0,22.0]|32.226101452848525|\n",
            "|100517|   UAL|2024-04-23| 53.08000183105469|  54.2400016784668|52.810001373291016| 53.92499923706055| 53.92499923706055|  6021664.0|625|2024|    4| 23|[2024.0,4.0,23.0]|32.208408875878376|\n",
            "+------+------+----------+------------------+------------------+------------------+------------------+------------------+-----------+---+----+-----+---+-----------------+------------------+\n",
            "\n"
          ]
        }
      ],
      "source": [
        "predictions.show()"
      ]
    },
    {
      "cell_type": "code",
      "execution_count": 12,
      "metadata": {
        "colab": {
          "base_uri": "https://localhost:8080/"
        },
        "id": "73_gQZbIp_mI",
        "outputId": "64bb41aa-016c-4b52-d14f-1f36071e8146"
      },
      "outputs": [
        {
          "name": "stdout",
          "output_type": "stream",
          "text": [
            "+------+------+----------+------------------+------------------+------------------+------------------+------------------+-----------+---+----+-----+---+\n",
            "|   cik|ticker|      date|              open|              high|               low|             close|          adjclose|     volume| rn|year|month|day|\n",
            "+------+------+----------+------------------+------------------+------------------+------------------+------------------+-----------+---+----+-----+---+\n",
            "|100517|   UAL|2024-04-15|42.150001525878906| 42.83000183105469| 40.84000015258789|41.040000915527344|41.040000915527344|  1.04521E7|631|2024|    4| 15|\n",
            "|100517|   UAL|2024-04-16| 40.79999923706055|41.720001220703125|40.099998474121094|              41.5|              41.5|  1.85109E7|630|2024|    4| 16|\n",
            "|100517|   UAL|2024-04-17| 44.45000076293945| 49.13999938964844| 44.11000061035156|  48.7400016784668|  48.7400016784668|6.7541296E7|629|2024|    4| 17|\n",
            "|100517|   UAL|2024-04-18|49.220001220703125|51.880001068115234| 49.20000076293945| 51.41999816894531| 51.41999816894531|   3.8676E7|628|2024|    4| 18|\n",
            "|100517|   UAL|2024-04-19|51.189998626708984|53.099998474121094|50.900001525878906|51.380001068115234|51.380001068115234|  1.63512E7|627|2024|    4| 19|\n",
            "|100517|   UAL|2024-04-22| 51.86000061035156|54.150001525878906|51.529998779296875|53.939998626708984|53.939998626708984|  1.64116E7|626|2024|    4| 22|\n",
            "|100517|   UAL|2024-04-23| 53.08000183105469|  54.2400016784668|52.810001373291016| 53.92499923706055| 53.92499923706055|  6021664.0|625|2024|    4| 23|\n",
            "+------+------+----------+------------------+------------------+------------------+------------------+------------------+-----------+---+----+-----+---+\n",
            "\n"
          ]
        }
      ],
      "source": [
        "test_data = test_data.orderBy(\"date\")\n",
        "test_data.show()"
      ]
    },
    {
      "cell_type": "code",
      "execution_count": 13,
      "metadata": {
        "colab": {
          "base_uri": "https://localhost:8080/",
          "height": 607
        },
        "id": "N1EkfnL4pkTd",
        "outputId": "bfb923fc-39fb-468d-891d-053c219f69a5"
      },
      "outputs": [
        {
          "data": {
            "image/png": "[encoded data removed]",
            "text/plain": [
              "<Figure size 1000x600 with 1 Axes>"
            ]
          },
          "metadata": {},
          "output_type": "display_data"
        }
      ],
      "source": [
        "import matplotlib.pyplot as plt\n",
        "import pandas as pd\n",
        "\n",
        "\n",
        "# Assuming predictions is the DataFrame containing 'date', 'close' (actual), and 'prediction' columns\n",
        "\n",
        "# Filter test predictions for the last 7 days\n",
        "last_7_days_predictions = predictions.filter(predictions['date'] >= predictions.agg({\"date\": \"max\"}).collect()[0][0] - pd.Timedelta(days=7))\n",
        "\n",
        "# Convert Spark DataFrame to Pandas DataFrame for plotting\n",
        "last_7_days_pd = last_7_days_predictions.select('date', 'close', 'prediction').toPandas()\n",
        "\n",
        "# Plot actual vs predicted\n",
        "plt.figure(figsize=(10, 6))\n",
        "plt.plot(last_7_days_pd['date'], last_7_days_pd['close'], label='Actual')\n",
        "plt.plot(last_7_days_pd['date'], last_7_days_pd['prediction'], label='Predicted')\n",
        "plt.title('Actual vs Predicted (Last 7 Days)')\n",
        "plt.xlabel('Date')\n",
        "plt.ylabel('Close Price')\n",
        "plt.xticks(rotation=45)\n",
        "plt.legend()\n",
        "plt.grid(True)\n",
        "plt.tight_layout()\n",
        "plt.show()"
      ]
    }
  ],
  "metadata": {
    "colab": {
      "provenance": []
    },
    "kernelspec": {
      "display_name": "Python 3",
      "name": "python3"
    },
    "language_info": {
      "name": "python"
    }
  },
  "nbformat": 4,
  "nbformat_minor": 0
}
