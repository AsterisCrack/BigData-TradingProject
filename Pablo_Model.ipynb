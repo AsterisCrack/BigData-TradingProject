{
  "cells": [
    {
      "cell_type": "code",
      "execution_count": 1,
      "metadata": {
        "colab": {
          "base_uri": "https://localhost:8080/"
        },
        "id": "ompRa2ae9Qnt",
        "outputId": "08ee6782-45ef-4249-a71f-9cb2711ff662"
      },
      "outputs": [
        {
          "output_type": "stream",
          "name": "stdout",
          "text": [
            "\u001b[33m\r0% [Working]\u001b[0m\r            \rGet:1 https://cloud.r-project.org/bin/linux/ubuntu jammy-cran40/ InRelease [3,626 B]\n",
            "Get:2 https://developer.download.nvidia.com/compute/cuda/repos/ubuntu2204/x86_64  InRelease [1,581 B]\n",
            "Get:3 http://security.ubuntu.com/ubuntu jammy-security InRelease [110 kB]\n",
            "Hit:4 http://archive.ubuntu.com/ubuntu jammy InRelease\n",
            "Get:5 http://archive.ubuntu.com/ubuntu jammy-updates InRelease [119 kB]\n",
            "Get:6 https://developer.download.nvidia.com/compute/cuda/repos/ubuntu2204/x86_64  Packages [824 kB]\n",
            "Hit:7 https://ppa.launchpadcontent.net/c2d4u.team/c2d4u4.0+/ubuntu jammy InRelease\n",
            "Hit:8 https://ppa.launchpadcontent.net/deadsnakes/ppa/ubuntu jammy InRelease\n",
            "Hit:9 https://ppa.launchpadcontent.net/graphics-drivers/ppa/ubuntu jammy InRelease\n",
            "Get:10 http://archive.ubuntu.com/ubuntu jammy-backports InRelease [109 kB]\n",
            "Hit:11 https://ppa.launchpadcontent.net/ubuntugis/ppa/ubuntu jammy InRelease\n",
            "Get:12 http://security.ubuntu.com/ubuntu jammy-security/restricted amd64 Packages [2,265 kB]\n",
            "Get:13 http://security.ubuntu.com/ubuntu jammy-security/main amd64 Packages [1,755 kB]\n",
            "Get:14 http://security.ubuntu.com/ubuntu jammy-security/universe amd64 Packages [1,077 kB]\n",
            "Get:15 http://archive.ubuntu.com/ubuntu jammy-updates/restricted amd64 Packages [2,339 kB]\n",
            "Get:16 http://archive.ubuntu.com/ubuntu jammy-updates/universe amd64 Packages [1,369 kB]\n",
            "Get:17 http://archive.ubuntu.com/ubuntu jammy-updates/main amd64 Packages [2,035 kB]\n",
            "Get:18 http://archive.ubuntu.com/ubuntu jammy-backports/universe amd64 Packages [31.9 kB]\n",
            "Get:19 http://archive.ubuntu.com/ubuntu jammy-backports/main amd64 Packages [81.0 kB]\n",
            "Fetched 12.1 MB in 3s (3,758 kB/s)\n",
            "Reading package lists... Done\n",
            "Building dependency tree... Done\n",
            "Reading state information... Done\n",
            "45 packages can be upgraded. Run 'apt list --upgradable' to see them.\n",
            "tar: spark-3.2.1-bin-hadoop3.2.tgz: Cannot open: No such file or directory\n",
            "tar: Error is not recoverable: exiting now\n",
            "Collecting pyspark\n",
            "  Downloading pyspark-3.5.1.tar.gz (317.0 MB)\n",
            "\u001b[2K     \u001b[90m━━━━━━━━━━━━━━━━━━━━━━━━━━━━━━━━━━━━━━━━\u001b[0m \u001b[32m317.0/317.0 MB\u001b[0m \u001b[31m3.3 MB/s\u001b[0m eta \u001b[36m0:00:00\u001b[0m\n",
            "\u001b[?25h  Preparing metadata (setup.py) ... \u001b[?25l\u001b[?25hdone\n",
            "Requirement already satisfied: py4j==0.10.9.7 in /usr/local/lib/python3.10/dist-packages (from pyspark) (0.10.9.7)\n",
            "Building wheels for collected packages: pyspark\n",
            "  Building wheel for pyspark (setup.py) ... \u001b[?25l\u001b[?25hdone\n",
            "  Created wheel for pyspark: filename=pyspark-3.5.1-py2.py3-none-any.whl size=317488491 sha256=50b5cf0210288b9a3be793463c94fde197b6bcf3b671e6fc6416e85a89c7c551\n",
            "  Stored in directory: /root/.cache/pip/wheels/80/1d/60/2c256ed38dddce2fdd93be545214a63e02fbd8d74fb0b7f3a6\n",
            "Successfully built pyspark\n",
            "Installing collected packages: pyspark\n",
            "Successfully installed pyspark-3.5.1\n",
            "Requirement already satisfied: py4j in /usr/local/lib/python3.10/dist-packages (0.10.9.7)\n"
          ]
        }
      ],
      "source": [
        "!sudo apt update\n",
        "!apt-get install openjdk-8-jdk-headless -qq > /dev/null\n",
        "#Check this site for the latest download link https://www.apache.org/dyn/closer.lua/spark/spark-3.2.1/spark-3.2.1-bin-hadoop3.2.tgz\n",
        "!wget -q https://dlcdn.apache.org/spark/spark-3.2.1/spark-3.2.1-bin-hadoop3.2.tgz\n",
        "!tar xf spark-3.2.1-bin-hadoop3.2.tgz\n",
        "!pip install -q findspark\n",
        "!pip install pyspark\n",
        "!pip install py4j\n",
        "\n",
        "import os\n",
        "import sys\n",
        "# os.environ[\"JAVA_HOME\"] = \"/usr/lib/jvm/java-8-openjdk-amd64\"\n",
        "# os.environ[\"SPARK_HOME\"] = \"/content/spark-3.2.1-bin-hadoop3.2\"\n",
        "\n",
        "\n",
        "import findspark\n",
        "findspark.init()\n",
        "findspark.find()\n",
        "\n",
        "import pyspark"
      ]
    },
    {
      "cell_type": "code",
      "execution_count": 2,
      "metadata": {
        "id": "dIGTn0y89Qnu"
      },
      "outputs": [],
      "source": [
        "import pyspark\n",
        "import pyspark.sql.functions as F\n",
        "import numpy as np\n",
        "from pyspark.sql import SparkSession\n",
        "import numpy as np\n",
        "from datetime import datetime, timedelta\n",
        "from pyspark.sql.window import Window\n",
        "import numpy as np\n",
        "import math\n",
        "import pandas as pd\n",
        "import subprocess\n",
        "from google.colab import drive\n",
        "import plotly.express as px\n",
        "import numpy as np\n",
        "import pandas as pd\n",
        "from sklearn.datasets import load_iris"
      ]
    },
    {
      "cell_type": "code",
      "execution_count": 3,
      "metadata": {
        "id": "5twT0_qZ9Qnu"
      },
      "outputs": [],
      "source": [
        "################################\n",
        "appName = 'abd11FinalProject'\n",
        "spark = SparkSession.builder\\\n",
        "                    .appName(appName) \\\n",
        "                    .getOrCreate()\n",
        "sc = spark.sparkContext"
      ]
    },
    {
      "cell_type": "code",
      "execution_count": 4,
      "metadata": {
        "colab": {
          "base_uri": "https://localhost:8080/",
          "height": 219
        },
        "id": "TXB4TZpi9Qnu",
        "outputId": "1c374f9e-bd81-49de-ccb9-0a0948c0e39c"
      },
      "outputs": [
        {
          "output_type": "execute_result",
          "data": {
            "text/plain": [
              "<pyspark.sql.session.SparkSession at 0x7ae51a0f23e0>"
            ],
            "text/html": [
              "\n",
              "            <div>\n",
              "                <p><b>SparkSession - in-memory</b></p>\n",
              "                \n",
              "        <div>\n",
              "            <p><b>SparkContext</b></p>\n",
              "\n",
              "            <p><a href=\"http://516dbc25f955:4040\">Spark UI</a></p>\n",
              "\n",
              "            <dl>\n",
              "              <dt>Version</dt>\n",
              "                <dd><code>v3.5.1</code></dd>\n",
              "              <dt>Master</dt>\n",
              "                <dd><code>local[*]</code></dd>\n",
              "              <dt>AppName</dt>\n",
              "                <dd><code>abd11FinalProject</code></dd>\n",
              "            </dl>\n",
              "        </div>\n",
              "        \n",
              "            </div>\n",
              "        "
            ]
          },
          "metadata": {},
          "execution_count": 4
        }
      ],
      "source": [
        "spark"
      ]
    },
    {
      "cell_type": "markdown",
      "source": [
        "Load data"
      ],
      "metadata": {
        "id": "We1GeJ6NuzA7"
      }
    },
    {
      "cell_type": "code",
      "execution_count": 5,
      "metadata": {
        "colab": {
          "base_uri": "https://localhost:8080/"
        },
        "id": "qxYv0SA29Qnu",
        "outputId": "627178ae-ba59-4223-f69e-4a8b0bf428ef"
      },
      "outputs": [
        {
          "output_type": "stream",
          "name": "stdout",
          "text": [
            "Mounted at /content/gdrive\n",
            "['Untitled0.ipynb', 'Copia de NLP - Assignment 1.ipynb', 'Untitled (1)', 'onlinefoods.csv', 'Untitled1.ipynb', 'Cl4_SPARKSQL_ALU_v1.ipynb', 'Cl3_SPARKSQL_ALU_v1.ipynb', 'Untitled', 'Cl5_SPARKSQL_ALU_v1.ipynb', 'Final_Big_data.ipynb', 'ge.csv', 'Pablo_Model.ipynb']\n",
            "+-----+------+----------+------------------+------------------+------------------+------------------+------------------+-----------+------+\n",
            "|  cik|ticker|      date|              open|              high|               low|             close|          adjclose|     volume|    rn|\n",
            "+-----+------+----------+------------------+------------------+------------------+------------------+------------------+-----------+------+\n",
            "|40545|    GE|2018-01-02|105.56656646728516|108.02857971191406|105.26631927490234|107.96853637695312|  102.963134765625|1.2917782E7|107254|\n",
            "|40545|    GE|2018-01-03|109.89010620117188|110.13031005859375|108.26878356933594|108.98937225341797| 103.9366455078125|1.3567582E7|107253|\n",
            "|40545|    GE|2018-01-04| 110.3705062866211|111.81168365478516|109.89010620117188|  111.271240234375|106.11272430419922|1.3747801E7|107252|\n",
            "|40545|    GE|2018-01-05|113.25286865234375|113.31291961669922|111.09109497070312|111.33129119873047|106.17000579833984|1.3302366E7|107251|\n",
            "|40545|    GE|2018-01-08|112.11193084716797|112.29208374023438|108.68912506103516|109.77001190185547|104.68109130859375|1.3671713E7|107250|\n",
            "|40545|    GE|2018-01-09|110.07025909423828| 112.0518798828125|108.74917602539062| 111.4513931274414|106.28453063964844|1.1057625E7|107249|\n",
            "|40545|    GE|2018-01-10|111.63153839111328|114.45384979248047|111.57148742675781|113.67321014404297|108.40333557128906|1.3709116E7|107248|\n",
            "|40545|    GE|2018-01-11|115.47468566894531|116.43547821044922|114.09355926513672|114.21365356445312|108.91874694824219|1.6607304E7|107247|\n",
            "|40545|    GE|2018-01-12|114.81414794921875|114.99429321289062|112.29208374023438|112.65237426757812|107.42984008789062|1.4500883E7|107246|\n",
            "|40545|    GE|2018-01-16|110.01020812988281| 111.1511459350586|107.84843444824219|109.34967041015625|104.28024291992188| 3.424806E7|107245|\n",
            "|40545|    GE|2018-01-17|105.98690795898438|106.28715515136719|103.64498901367188|104.18543243408203| 99.35541534423828| 3.123057E7|107244|\n",
            "|40545|    GE|2018-01-18|104.48567962646484|104.96607208251953|100.64252471923828|100.70257568359375|  96.0340347290039|2.8687024E7|107243|\n",
            "|40545|    GE|2018-01-19| 99.98198699951172| 100.4623794555664| 96.19888305664062| 97.64006805419922| 93.11347198486328|3.5795156E7|107242|\n",
            "|40545|    GE|2018-01-22|  95.4782943725586| 98.06040954589844| 94.87779998779297| 97.09962463378906| 92.59809112548828|2.2350374E7|107241|\n",
            "|40545|    GE|2018-01-23| 97.88026428222656|102.26385498046875| 97.70011138916016|101.42316436767578| 96.72122192382812|2.0522574E7|107240|\n",
            "|40545|    GE|2018-01-24|102.08370971679688| 104.2454833984375| 97.58001708984375|   98.720947265625|  94.1442642211914|2.7813458E7|107239|\n",
            "|40545|    GE|2018-01-25| 99.08124542236328| 99.80184173583984| 96.85942840576172|    97.15966796875| 92.65538024902344|1.5829859E7|107238|\n",
            "|40545|    GE|2018-01-26| 96.85942840576172|  97.0395736694336| 95.65843963623047| 96.85942840576172|  92.3690414428711|1.5135679E7|107237|\n",
            "|40545|    GE|2018-01-29| 96.19888305664062| 98.66090393066406| 95.89863586425781| 97.76016235351562| 93.22801208496094|1.2345618E7|107236|\n",
            "|40545|    GE|2018-01-30| 96.67927551269531| 97.70011138916016|  95.7785415649414|  95.7785415649414| 91.33826446533203|1.1366372E7|107235|\n",
            "+-----+------+----------+------------------+------------------+------------------+------------------+------------------+-----------+------+\n",
            "only showing top 20 rows\n",
            "\n"
          ]
        },
        {
          "output_type": "execute_result",
          "data": {
            "text/plain": [
              "[Row(cik=40545, ticker='GE', date=datetime.date(2024, 4, 15), open=157.1999969482422, high=158.69000244140625, low=152.69000244140625, close=153.6999969482422, adjclose=153.6999969482422, volume=6423700.0, rn=3673),\n",
              " Row(cik=40545, ticker='GE', date=datetime.date(2024, 4, 16), open=152.6999969482422, high=157.02000427246094, low=152.0, close=156.75999450683594, adjclose=156.75999450683594, volume=6187200.0, rn=3672),\n",
              " Row(cik=40545, ticker='GE', date=datetime.date(2024, 4, 17), open=158.0, high=158.67999267578125, low=153.6300048828125, close=155.6699981689453, adjclose=155.6699981689453, volume=6519900.0, rn=3671),\n",
              " Row(cik=40545, ticker='GE', date=datetime.date(2024, 4, 18), open=156.67999267578125, high=158.0, low=152.8800048828125, close=152.94000244140625, adjclose=152.94000244140625, volume=6186600.0, rn=3670),\n",
              " Row(cik=40545, ticker='GE', date=datetime.date(2024, 4, 19), open=153.4499969482422, high=153.52999877929688, low=146.77999877929688, close=148.05999755859375, adjclose=148.05999755859375, volume=9563800.0, rn=3669),\n",
              " Row(cik=40545, ticker='GE', date=datetime.date(2024, 4, 22), open=148.8300018310547, high=151.91000366210938, low=148.8300018310547, close=150.19000244140625, adjclose=150.19000244140625, volume=7316200.0, rn=3668),\n",
              " Row(cik=40545, ticker='GE', date=datetime.date(2024, 4, 23), open=157.8300018310547, high=161.99000549316406, low=152.82000732421875, close=161.63999938964844, adjclose=161.63999938964844, volume=9858287.0, rn=3667)]"
            ]
          },
          "metadata": {},
          "execution_count": 5
        }
      ],
      "source": [
        "company_ticker = \"GE\"\n",
        "filename = \"ge.csv\"\n",
        "drive.mount('/content/gdrive')\n",
        "\n",
        "download_dir = '/content/gdrive/My Drive/Colab Notebooks/' #download directory\n",
        "os.chdir(download_dir) #move to directory\n",
        "\n",
        "print(os.listdir())\n",
        "\n",
        "# load the data from the csv file\n",
        "\n",
        "combined_data = spark.read.csv(download_dir+filename, header=True, inferSchema=True)\n",
        "combined_data = combined_data.orderBy(\"date\")\n",
        "combined_data.show()\n",
        "combined_data.tail(7)"
      ]
    },
    {
      "cell_type": "markdown",
      "source": [
        "# Train a model with cross validation\n",
        "## Split the data 80% 20% and evaluate on RMSE to get the best parameters for the model"
      ],
      "metadata": {
        "id": "gBH-N9fnu3F7"
      }
    },
    {
      "cell_type": "code",
      "source": [
        "from pyspark.ml import Pipeline\n",
        "from pyspark.ml.feature import VectorAssembler\n",
        "from pyspark.ml.regression import GBTRegressor\n",
        "from pyspark.ml.evaluation import RegressionEvaluator\n",
        "from pyspark.ml.tuning import ParamGridBuilder, CrossValidator\n",
        "from pyspark.sql.functions import year, month, dayofmonth\n",
        "\n",
        "# Extract year, month, and day from the date column\n",
        "data_with_features = combined_data.withColumn(\"year\", year(\"date\")) \\\n",
        "                                  .withColumn(\"month\", month(\"date\")) \\\n",
        "                                  .withColumn(\"day\", dayofmonth(\"date\"))\n",
        "data_with_features = data_with_features.orderBy(\"date\")\n",
        "\n",
        "# Calculate the index to split at (80% train, 20% test)\n",
        "split_index = int(0.8 * data_with_features.count())\n",
        "\n",
        "# Split the data into train and test sets\n",
        "train_data = data_with_features.limit(split_index)\n",
        "test_data = data_with_features.subtract(train_data)\n",
        "\n",
        "# Define the features column\n",
        "feature_columns = ['year', 'month', 'day']\n",
        "vector_assembler = VectorAssembler(inputCols=feature_columns, outputCol=\"features\")\n",
        "\n",
        "# Define the GBTRegressor\n",
        "gbt = GBTRegressor(featuresCol=\"features\", labelCol=\"close\")\n",
        "\n",
        "# Create a pipeline\n",
        "pipeline = Pipeline(stages=[vector_assembler, gbt])\n",
        "\n",
        "# Define parameter grid for hyperparameter tuning\n",
        "param_grid = ParamGridBuilder() \\\n",
        "    .addGrid(gbt.maxDepth, [3, 5, 7]) \\\n",
        "    .addGrid(gbt.maxIter, [20, 30]) \\\n",
        "    .build()\n",
        "\n",
        "# Define evaluator\n",
        "evaluator = RegressionEvaluator(labelCol=\"close\", predictionCol=\"prediction\", metricName=\"rmse\")\n",
        "\n",
        "# Create CrossValidator\n",
        "cross_val = CrossValidator(estimator=pipeline,\n",
        "                           estimatorParamMaps=param_grid,\n",
        "                           evaluator=evaluator,\n",
        "                           numFolds=3)\n",
        "\n",
        "# Fit the model\n",
        "cv_model = cross_val.fit(train_data)\n",
        "\n",
        "# Get best model\n",
        "best_model = cv_model.bestModel\n",
        "\n",
        "# Make predictions on the test set\n",
        "predictions = best_model.transform(test_data)\n",
        "\n",
        "# Evaluate the model on test data\n",
        "rmse = evaluator.evaluate(predictions)\n",
        "\n",
        "print(\"Root Mean Squared Error (RMSE) on test data =\", rmse)"
      ],
      "metadata": {
        "colab": {
          "base_uri": "https://localhost:8080/"
        },
        "id": "rdxG7KmDb-3P",
        "outputId": "81678752-2df0-40fd-feae-42a8e245805a"
      },
      "execution_count": 6,
      "outputs": [
        {
          "output_type": "stream",
          "name": "stdout",
          "text": [
            "Root Mean Squared Error (RMSE) on test data = 49.22736326361659\n"
          ]
        }
      ]
    },
    {
      "cell_type": "code",
      "source": [
        "params = [{p.name: v for p, v in m.items()} for m in cv_model.getEstimatorParamMaps()]\n",
        "import pandas as pd\n",
        "\n",
        "pd.DataFrame.from_dict([\n",
        "    {cv_model.getEvaluator().getMetricName(): metric, **ps}\n",
        "    for ps, metric in zip(params, cv_model.avgMetrics)\n",
        "])"
      ],
      "metadata": {
        "colab": {
          "base_uri": "https://localhost:8080/",
          "height": 237
        },
        "id": "GwpIYFRfdUtr",
        "outputId": "0b819d61-e0c0-48fa-a083-88db0d5c7d7a"
      },
      "execution_count": 7,
      "outputs": [
        {
          "output_type": "execute_result",
          "data": {
            "text/plain": [
              "       rmse  maxDepth  maxIter\n",
              "0  4.976898         3       20\n",
              "1  4.300558         3       30\n",
              "2  3.176291         5       20\n",
              "3  3.001331         5       30\n",
              "4  2.467697         7       20\n",
              "5  2.421327         7       30"
            ],
            "text/html": [
              "\n",
              "  <div id=\"df-5c860625-e692-461d-86e2-e1b6c2adaa58\" class=\"colab-df-container\">\n",
              "    <div>\n",
              "<style scoped>\n",
              "    .dataframe tbody tr th:only-of-type {\n",
              "        vertical-align: middle;\n",
              "    }\n",
              "\n",
              "    .dataframe tbody tr th {\n",
              "        vertical-align: top;\n",
              "    }\n",
              "\n",
              "    .dataframe thead th {\n",
              "        text-align: right;\n",
              "    }\n",
              "</style>\n",
              "<table border=\"1\" class=\"dataframe\">\n",
              "  <thead>\n",
              "    <tr style=\"text-align: right;\">\n",
              "      <th></th>\n",
              "      <th>rmse</th>\n",
              "      <th>maxDepth</th>\n",
              "      <th>maxIter</th>\n",
              "    </tr>\n",
              "  </thead>\n",
              "  <tbody>\n",
              "    <tr>\n",
              "      <th>0</th>\n",
              "      <td>4.976898</td>\n",
              "      <td>3</td>\n",
              "      <td>20</td>\n",
              "    </tr>\n",
              "    <tr>\n",
              "      <th>1</th>\n",
              "      <td>4.300558</td>\n",
              "      <td>3</td>\n",
              "      <td>30</td>\n",
              "    </tr>\n",
              "    <tr>\n",
              "      <th>2</th>\n",
              "      <td>3.176291</td>\n",
              "      <td>5</td>\n",
              "      <td>20</td>\n",
              "    </tr>\n",
              "    <tr>\n",
              "      <th>3</th>\n",
              "      <td>3.001331</td>\n",
              "      <td>5</td>\n",
              "      <td>30</td>\n",
              "    </tr>\n",
              "    <tr>\n",
              "      <th>4</th>\n",
              "      <td>2.467697</td>\n",
              "      <td>7</td>\n",
              "      <td>20</td>\n",
              "    </tr>\n",
              "    <tr>\n",
              "      <th>5</th>\n",
              "      <td>2.421327</td>\n",
              "      <td>7</td>\n",
              "      <td>30</td>\n",
              "    </tr>\n",
              "  </tbody>\n",
              "</table>\n",
              "</div>\n",
              "    <div class=\"colab-df-buttons\">\n",
              "\n",
              "  <div class=\"colab-df-container\">\n",
              "    <button class=\"colab-df-convert\" onclick=\"convertToInteractive('df-5c860625-e692-461d-86e2-e1b6c2adaa58')\"\n",
              "            title=\"Convert this dataframe to an interactive table.\"\n",
              "            style=\"display:none;\">\n",
              "\n",
              "  <svg xmlns=\"http://www.w3.org/2000/svg\" height=\"24px\" viewBox=\"0 -960 960 960\">\n",
              "    <path d=\"M120-120v-720h720v720H120Zm60-500h600v-160H180v160Zm220 220h160v-160H400v160Zm0 220h160v-160H400v160ZM180-400h160v-160H180v160Zm440 0h160v-160H620v160ZM180-180h160v-160H180v160Zm440 0h160v-160H620v160Z\"/>\n",
              "  </svg>\n",
              "    </button>\n",
              "\n",
              "  <style>\n",
              "    .colab-df-container {\n",
              "      display:flex;\n",
              "      gap: 12px;\n",
              "    }\n",
              "\n",
              "    .colab-df-convert {\n",
              "      background-color: #E8F0FE;\n",
              "      border: none;\n",
              "      border-radius: 50%;\n",
              "      cursor: pointer;\n",
              "      display: none;\n",
              "      fill: #1967D2;\n",
              "      height: 32px;\n",
              "      padding: 0 0 0 0;\n",
              "      width: 32px;\n",
              "    }\n",
              "\n",
              "    .colab-df-convert:hover {\n",
              "      background-color: #E2EBFA;\n",
              "      box-shadow: 0px 1px 2px rgba(60, 64, 67, 0.3), 0px 1px 3px 1px rgba(60, 64, 67, 0.15);\n",
              "      fill: #174EA6;\n",
              "    }\n",
              "\n",
              "    .colab-df-buttons div {\n",
              "      margin-bottom: 4px;\n",
              "    }\n",
              "\n",
              "    [theme=dark] .colab-df-convert {\n",
              "      background-color: #3B4455;\n",
              "      fill: #D2E3FC;\n",
              "    }\n",
              "\n",
              "    [theme=dark] .colab-df-convert:hover {\n",
              "      background-color: #434B5C;\n",
              "      box-shadow: 0px 1px 3px 1px rgba(0, 0, 0, 0.15);\n",
              "      filter: drop-shadow(0px 1px 2px rgba(0, 0, 0, 0.3));\n",
              "      fill: #FFFFFF;\n",
              "    }\n",
              "  </style>\n",
              "\n",
              "    <script>\n",
              "      const buttonEl =\n",
              "        document.querySelector('#df-5c860625-e692-461d-86e2-e1b6c2adaa58 button.colab-df-convert');\n",
              "      buttonEl.style.display =\n",
              "        google.colab.kernel.accessAllowed ? 'block' : 'none';\n",
              "\n",
              "      async function convertToInteractive(key) {\n",
              "        const element = document.querySelector('#df-5c860625-e692-461d-86e2-e1b6c2adaa58');\n",
              "        const dataTable =\n",
              "          await google.colab.kernel.invokeFunction('convertToInteractive',\n",
              "                                                    [key], {});\n",
              "        if (!dataTable) return;\n",
              "\n",
              "        const docLinkHtml = 'Like what you see? Visit the ' +\n",
              "          '<a target=\"_blank\" href=https://colab.research.google.com/notebooks/data_table.ipynb>data table notebook</a>'\n",
              "          + ' to learn more about interactive tables.';\n",
              "        element.innerHTML = '';\n",
              "        dataTable['output_type'] = 'display_data';\n",
              "        await google.colab.output.renderOutput(dataTable, element);\n",
              "        const docLink = document.createElement('div');\n",
              "        docLink.innerHTML = docLinkHtml;\n",
              "        element.appendChild(docLink);\n",
              "      }\n",
              "    </script>\n",
              "  </div>\n",
              "\n",
              "\n",
              "<div id=\"df-8f787ad1-a93c-47ca-ad8d-e2a5d60597c4\">\n",
              "  <button class=\"colab-df-quickchart\" onclick=\"quickchart('df-8f787ad1-a93c-47ca-ad8d-e2a5d60597c4')\"\n",
              "            title=\"Suggest charts\"\n",
              "            style=\"display:none;\">\n",
              "\n",
              "<svg xmlns=\"http://www.w3.org/2000/svg\" height=\"24px\"viewBox=\"0 0 24 24\"\n",
              "     width=\"24px\">\n",
              "    <g>\n",
              "        <path d=\"M19 3H5c-1.1 0-2 .9-2 2v14c0 1.1.9 2 2 2h14c1.1 0 2-.9 2-2V5c0-1.1-.9-2-2-2zM9 17H7v-7h2v7zm4 0h-2V7h2v10zm4 0h-2v-4h2v4z\"/>\n",
              "    </g>\n",
              "</svg>\n",
              "  </button>\n",
              "\n",
              "<style>\n",
              "  .colab-df-quickchart {\n",
              "      --bg-color: #E8F0FE;\n",
              "      --fill-color: #1967D2;\n",
              "      --hover-bg-color: #E2EBFA;\n",
              "      --hover-fill-color: #174EA6;\n",
              "      --disabled-fill-color: #AAA;\n",
              "      --disabled-bg-color: #DDD;\n",
              "  }\n",
              "\n",
              "  [theme=dark] .colab-df-quickchart {\n",
              "      --bg-color: #3B4455;\n",
              "      --fill-color: #D2E3FC;\n",
              "      --hover-bg-color: #434B5C;\n",
              "      --hover-fill-color: #FFFFFF;\n",
              "      --disabled-bg-color: #3B4455;\n",
              "      --disabled-fill-color: #666;\n",
              "  }\n",
              "\n",
              "  .colab-df-quickchart {\n",
              "    background-color: var(--bg-color);\n",
              "    border: none;\n",
              "    border-radius: 50%;\n",
              "    cursor: pointer;\n",
              "    display: none;\n",
              "    fill: var(--fill-color);\n",
              "    height: 32px;\n",
              "    padding: 0;\n",
              "    width: 32px;\n",
              "  }\n",
              "\n",
              "  .colab-df-quickchart:hover {\n",
              "    background-color: var(--hover-bg-color);\n",
              "    box-shadow: 0 1px 2px rgba(60, 64, 67, 0.3), 0 1px 3px 1px rgba(60, 64, 67, 0.15);\n",
              "    fill: var(--button-hover-fill-color);\n",
              "  }\n",
              "\n",
              "  .colab-df-quickchart-complete:disabled,\n",
              "  .colab-df-quickchart-complete:disabled:hover {\n",
              "    background-color: var(--disabled-bg-color);\n",
              "    fill: var(--disabled-fill-color);\n",
              "    box-shadow: none;\n",
              "  }\n",
              "\n",
              "  .colab-df-spinner {\n",
              "    border: 2px solid var(--fill-color);\n",
              "    border-color: transparent;\n",
              "    border-bottom-color: var(--fill-color);\n",
              "    animation:\n",
              "      spin 1s steps(1) infinite;\n",
              "  }\n",
              "\n",
              "  @keyframes spin {\n",
              "    0% {\n",
              "      border-color: transparent;\n",
              "      border-bottom-color: var(--fill-color);\n",
              "      border-left-color: var(--fill-color);\n",
              "    }\n",
              "    20% {\n",
              "      border-color: transparent;\n",
              "      border-left-color: var(--fill-color);\n",
              "      border-top-color: var(--fill-color);\n",
              "    }\n",
              "    30% {\n",
              "      border-color: transparent;\n",
              "      border-left-color: var(--fill-color);\n",
              "      border-top-color: var(--fill-color);\n",
              "      border-right-color: var(--fill-color);\n",
              "    }\n",
              "    40% {\n",
              "      border-color: transparent;\n",
              "      border-right-color: var(--fill-color);\n",
              "      border-top-color: var(--fill-color);\n",
              "    }\n",
              "    60% {\n",
              "      border-color: transparent;\n",
              "      border-right-color: var(--fill-color);\n",
              "    }\n",
              "    80% {\n",
              "      border-color: transparent;\n",
              "      border-right-color: var(--fill-color);\n",
              "      border-bottom-color: var(--fill-color);\n",
              "    }\n",
              "    90% {\n",
              "      border-color: transparent;\n",
              "      border-bottom-color: var(--fill-color);\n",
              "    }\n",
              "  }\n",
              "</style>\n",
              "\n",
              "  <script>\n",
              "    async function quickchart(key) {\n",
              "      const quickchartButtonEl =\n",
              "        document.querySelector('#' + key + ' button');\n",
              "      quickchartButtonEl.disabled = true;  // To prevent multiple clicks.\n",
              "      quickchartButtonEl.classList.add('colab-df-spinner');\n",
              "      try {\n",
              "        const charts = await google.colab.kernel.invokeFunction(\n",
              "            'suggestCharts', [key], {});\n",
              "      } catch (error) {\n",
              "        console.error('Error during call to suggestCharts:', error);\n",
              "      }\n",
              "      quickchartButtonEl.classList.remove('colab-df-spinner');\n",
              "      quickchartButtonEl.classList.add('colab-df-quickchart-complete');\n",
              "    }\n",
              "    (() => {\n",
              "      let quickchartButtonEl =\n",
              "        document.querySelector('#df-8f787ad1-a93c-47ca-ad8d-e2a5d60597c4 button');\n",
              "      quickchartButtonEl.style.display =\n",
              "        google.colab.kernel.accessAllowed ? 'block' : 'none';\n",
              "    })();\n",
              "  </script>\n",
              "</div>\n",
              "    </div>\n",
              "  </div>\n"
            ],
            "application/vnd.google.colaboratory.intrinsic+json": {
              "type": "dataframe",
              "summary": "{\n  \"name\": \"])\",\n  \"rows\": 6,\n  \"fields\": [\n    {\n      \"column\": \"rmse\",\n      \"properties\": {\n        \"dtype\": \"number\",\n        \"std\": 1.0327697340872226,\n        \"min\": 2.421326831550643,\n        \"max\": 4.976898266831232,\n        \"num_unique_values\": 6,\n        \"samples\": [\n          4.976898266831232,\n          4.300558299487943,\n          2.421326831550643\n        ],\n        \"semantic_type\": \"\",\n        \"description\": \"\"\n      }\n    },\n    {\n      \"column\": \"maxDepth\",\n      \"properties\": {\n        \"dtype\": \"number\",\n        \"std\": 1,\n        \"min\": 3,\n        \"max\": 7,\n        \"num_unique_values\": 3,\n        \"samples\": [\n          3,\n          5,\n          7\n        ],\n        \"semantic_type\": \"\",\n        \"description\": \"\"\n      }\n    },\n    {\n      \"column\": \"maxIter\",\n      \"properties\": {\n        \"dtype\": \"number\",\n        \"std\": 5,\n        \"min\": 20,\n        \"max\": 30,\n        \"num_unique_values\": 2,\n        \"samples\": [\n          30,\n          20\n        ],\n        \"semantic_type\": \"\",\n        \"description\": \"\"\n      }\n    }\n  ]\n}"
            }
          },
          "metadata": {},
          "execution_count": 7
        }
      ]
    },
    {
      "cell_type": "markdown",
      "source": [
        "## The best parameters found by CV are maxDepth = 7 and maxIters = 30\n",
        "### Now, train a model with that parameters for all days except the last 7 and finally predict the last 7 days with this best model"
      ],
      "metadata": {
        "id": "MF-hoqbYvWY0"
      }
    },
    {
      "cell_type": "code",
      "source": [
        "import time\n",
        "\n",
        "# Get the last 7 days\n",
        "split_index = int(data_with_features.count() - 7)\n",
        "\n",
        "# Split the data by the last 7 days\n",
        "train_data = data_with_features.limit(split_index)\n",
        "test_data = data_with_features.subtract(train_data)\n",
        "\n",
        "# Print length of thest data. Should be 7 days\n",
        "print(\"Test data length:\", test_data.count())\n",
        "\n",
        "# Define the features column\n",
        "feature_columns = ['year', 'month', 'day']\n",
        "vector_assembler = VectorAssembler(inputCols=feature_columns, outputCol=\"features\")\n",
        "\n",
        "# Define the GBTRegressor with the best parameters obtained from cross-validation\n",
        "best_gbt = GBTRegressor(featuresCol=\"features\", labelCol=\"close\", maxDepth=7, maxIter=30)\n",
        "\n",
        "# Create a pipeline\n",
        "pipeline = Pipeline(stages=[vector_assembler, best_gbt])\n",
        "\n",
        "# Fit the model on the entire dataset except the last 7 days\n",
        "start_time = time.time()\n",
        "model = pipeline.fit(train_data)\n",
        "end_time = time.time()\n",
        "print(\"Training time: {:.2f} seconds\".format(end_time - start_time))\n",
        "\n",
        "# Make predictions on the entire dataset\n",
        "predictions = model.transform(test_data)\n",
        "\n",
        "# Define evaluator\n",
        "evaluator = RegressionEvaluator(labelCol=\"close\", predictionCol=\"prediction\", metricName=\"rmse\")\n",
        "evaluator_mae = RegressionEvaluator(labelCol=\"close\", predictionCol=\"prediction\", metricName=\"mae\")\n",
        "evaluator_r2 = RegressionEvaluator(labelCol=\"close\", predictionCol=\"prediction\", metricName=\"r2\")\n",
        "\n",
        "# Evaluate the model on test data\n",
        "rmse = evaluator.evaluate(predictions)\n",
        "mae = evaluator_mae.evaluate(predictions)\n",
        "r2 = evaluator_r2.evaluate(predictions)\n",
        "\n",
        "print(\"Model results for last 7 days\")\n",
        "print(\"Root Mean Squared Error (RMSE) on test data =\", rmse)\n",
        "print(\"Mean Absolute Error (MAE) on test data =\", mae)\n",
        "print(\"R-squared (R2) on test data =\", r2)"
      ],
      "metadata": {
        "colab": {
          "base_uri": "https://localhost:8080/"
        },
        "id": "6wGw0VHTg9cl",
        "outputId": "13a40bf1-c6fa-4e57-8b28-28de2ff2140d"
      },
      "execution_count": 8,
      "outputs": [
        {
          "output_type": "stream",
          "name": "stdout",
          "text": [
            "Test data length: 7\n",
            "Training time: 16.43 seconds\n",
            "Model results for last 7 days\n",
            "Root Mean Squared Error (RMSE) on test data = 4.17036118866453\n",
            "Mean Absolute Error (MAE) on test data = 3.438532949920593\n",
            "R-squared (R2) on test data = -0.0174303910389626\n"
          ]
        }
      ]
    },
    {
      "cell_type": "code",
      "source": [
        "predictions.show()"
      ],
      "metadata": {
        "colab": {
          "base_uri": "https://localhost:8080/"
        },
        "id": "xLNz9EXrpqJB",
        "outputId": "4e3652a5-9e7d-40f1-c61e-568bc428054d"
      },
      "execution_count": 9,
      "outputs": [
        {
          "output_type": "stream",
          "name": "stdout",
          "text": [
            "+-----+------+----------+------------------+------------------+------------------+------------------+------------------+---------+----+----+-----+---+-----------------+------------------+\n",
            "|  cik|ticker|      date|              open|              high|               low|             close|          adjclose|   volume|  rn|year|month|day|         features|        prediction|\n",
            "+-----+------+----------+------------------+------------------+------------------+------------------+------------------+---------+----+----+-----+---+-----------------+------------------+\n",
            "|40545|    GE|2024-04-15| 157.1999969482422|158.69000244140625|152.69000244140625| 153.6999969482422| 153.6999969482422|6423700.0|3673|2024|    4| 15|[2024.0,4.0,15.0]|154.85469857234722|\n",
            "|40545|    GE|2024-04-16| 152.6999969482422|157.02000427246094|             152.0|156.75999450683594|156.75999450683594|6187200.0|3672|2024|    4| 16|[2024.0,4.0,16.0]|154.86007373335354|\n",
            "|40545|    GE|2024-04-17|             158.0|158.67999267578125| 153.6300048828125| 155.6699981689453| 155.6699981689453|6519900.0|3671|2024|    4| 17|[2024.0,4.0,17.0]|154.70409696489054|\n",
            "|40545|    GE|2024-04-18|156.67999267578125|             158.0| 152.8800048828125|152.94000244140625|152.94000244140625|6186600.0|3670|2024|    4| 18|[2024.0,4.0,18.0]|  154.929841329844|\n",
            "|40545|    GE|2024-04-19| 153.4499969482422|153.52999877929688|146.77999877929688|148.05999755859375|148.05999755859375|9563800.0|3669|2024|    4| 19|[2024.0,4.0,19.0]|154.89272251694797|\n",
            "|40545|    GE|2024-04-22| 148.8300018310547|151.91000366210938| 148.8300018310547|150.19000244140625|150.19000244140625|7316200.0|3668|2024|    4| 22|[2024.0,4.0,22.0]| 154.7537909920807|\n",
            "|40545|    GE|2024-04-23| 157.8300018310547|161.99000549316406|152.82000732421875|161.63999938964844|161.63999938964844|9858287.0|3667|2024|    4| 23|[2024.0,4.0,23.0]| 154.9771447393129|\n",
            "+-----+------+----------+------------------+------------------+------------------+------------------+------------------+---------+----+----+-----+---+-----------------+------------------+\n",
            "\n"
          ]
        }
      ]
    },
    {
      "cell_type": "code",
      "source": [
        "import matplotlib.pyplot as plt\n",
        "import random\n",
        "\n",
        "predictions = predictions.orderBy(\"date\")\n",
        "\n",
        "# Collecting data from DataFrame columns as lists\n",
        "dates = predictions.select(\"date\").rdd.flatMap(lambda x: x).collect()\n",
        "predictions_values = predictions.select(\"prediction\").rdd.flatMap(lambda x: x).collect()\n",
        "real_values = predictions.select(\"close\").rdd.flatMap(lambda x: x).collect()\n",
        "max_val = max(real_values) + 5\n",
        "min_val = min(real_values) - 5\n",
        "valores_random = [random.uniform(min_val, max_val) for _ in range(7)]\n",
        "\n",
        "# Plotting the data\n",
        "plt.plot(dates, predictions_values, label='Predicciones', linestyle='-', marker='o', color='b')\n",
        "plt.plot(dates, real_values, label='Real', linestyle='--', marker='s', color='r')\n",
        "plt.plot(dates, valores_random, label='Random', linestyle=':', marker='s', color='g')\n",
        "\n",
        "# Labels and legend\n",
        "plt.xlabel('Fecha')\n",
        "plt.ylabel('Valor')\n",
        "plt.title('Predicciones vs Real')\n",
        "plt.legend()\n",
        "\n",
        "# Displaying the plot\n",
        "plt.grid(True)\n",
        "plt.xticks(rotation=45)  # Rotate x-axis labels for better readability if necessary\n",
        "plt.tight_layout()  # Adjust layout to prevent clipping of labels\n",
        "plt.show()"
      ],
      "metadata": {
        "colab": {
          "base_uri": "https://localhost:8080/",
          "height": 487
        },
        "id": "N1EkfnL4pkTd",
        "outputId": "8b990539-6cb3-47f1-8322-dde1a5bb5e49"
      },
      "execution_count": 12,
      "outputs": [
        {
          "output_type": "display_data",
          "data": {
            "text/plain": [
              "<Figure size 640x480 with 1 Axes>"
            ],
            "image/png": "[encoded data removed]"
          },
          "metadata": {}
        }
      ]
    }
  ],
  "metadata": {
    "language_info": {
      "name": "python"
    },
    "colab": {
      "provenance": []
    },
    "kernelspec": {
      "name": "python3",
      "display_name": "Python 3"
    }
  },
  "nbformat": 4,
  "nbformat_minor": 0
}